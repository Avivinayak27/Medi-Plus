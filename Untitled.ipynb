{
 "cells": [
  {
   "cell_type": "code",
   "execution_count": 1,
   "metadata": {},
   "outputs": [],
   "source": [
    "from flask import Flask, render_template, request\n",
    "import mysql.connector\n",
    "import pymysql\n",
    "\n",
    "app= Flask(\"Hello\")\n",
    "\n",
    "conn=mysql.connector.connect(host=\"localhost\",user=\"root\",password=\"\" ,database=\"login\")\n",
    "cursor=conn.cursor()\n",
    "\n",
    "@app.route(\"/\")\n",
    "def index():\n",
    "    return render_template(\"index.html\")\n",
    "@app.route(\"/lala/\")\n",
    "def register():\n",
    "    return render_template(\"signup.html\")\n",
    "@app.route(\"/index\")\n",
    "def home():\n",
    "    return render_template(\"index.html\")\n",
    "@app.route(\"/poojdi\")\n",
    "def poojdi():\n",
    "    return render_template(\"signin.html\")\n",
    "@app.route(\"/login_validation\",methods=['POST'])\n",
    "def login_validation():\n",
    "    email=request.form.get(\"email\")\n",
    "    password=request.form.get(\"password\")\n",
    "    cursor.execute(\"\"\"SELECT * FROM `signin`  WHERE `email` LIKE '{}' AND `password` LIKE '{}'\"\"\".format(email,password))\n",
    "        \n",
    "    users=cursor.fetchall()\n",
    "    if len(users)>0:\n",
    "        return render_template(\"index.html\")\n",
    "    else:\n",
    "        return render_template(\"signin.html\")\n",
    "    \n",
    "        \n",
    "\n",
    "    \n"
   ]
  },
  {
   "cell_type": "code",
   "execution_count": null,
   "metadata": {},
   "outputs": [
    {
     "name": "stdout",
     "output_type": "stream",
     "text": [
      " * Serving Flask app \"Hello\" (lazy loading)\n",
      " * Environment: production\n",
      "   WARNING: This is a development server. Do not use it in a production deployment.\n",
      "   Use a production WSGI server instead.\n",
      " * Debug mode: off\n"
     ]
    },
    {
     "name": "stderr",
     "output_type": "stream",
     "text": [
      " * Running on http://127.0.0.1:5000/ (Press CTRL+C to quit)\n",
      "127.0.0.1 - - [23/May/2020 12:02:35] \"GET / HTTP/1.1\" 200 -\n",
      "127.0.0.1 - - [23/May/2020 12:02:36] \"GET /static/css/open-iconic-bootstrap.min.css HTTP/1.1\" 200 -\n",
      "127.0.0.1 - - [23/May/2020 12:02:36] \"GET /static/css/owl.carousel.min.css HTTP/1.1\" 200 -\n",
      "127.0.0.1 - - [23/May/2020 12:02:36] \"GET /static/css/owl.theme.default.min.css HTTP/1.1\" 200 -\n",
      "127.0.0.1 - - [23/May/2020 12:02:36] \"GET /static/css/aos.css HTTP/1.1\" 200 -\n",
      "127.0.0.1 - - [23/May/2020 12:02:36] \"GET /static/css/animate.css HTTP/1.1\" 200 -\n",
      "127.0.0.1 - - [23/May/2020 12:02:36] \"GET /static/css/magnific-popup.css HTTP/1.1\" 200 -\n",
      "127.0.0.1 - - [23/May/2020 12:02:36] \"GET /static/css/ionicons.min.css HTTP/1.1\" 200 -\n",
      "127.0.0.1 - - [23/May/2020 12:02:36] \"GET /static/css/flaticon.css HTTP/1.1\" 200 -\n",
      "127.0.0.1 - - [23/May/2020 12:02:36] \"GET /static/css/style.css HTTP/1.1\" 200 -\n",
      "127.0.0.1 - - [23/May/2020 12:02:36] \"GET /static/css/icomoon.css HTTP/1.1\" 200 -\n",
      "127.0.0.1 - - [23/May/2020 12:02:36] \"GET /static/js/jquery-migrate-3.0.1.min.js HTTP/1.1\" 200 -\n",
      "127.0.0.1 - - [23/May/2020 12:02:36] \"GET /static/js/popper.min.js HTTP/1.1\" 200 -\n",
      "127.0.0.1 - - [23/May/2020 12:02:36] \"GET /static/js/bootstrap.min.js HTTP/1.1\" 200 -\n",
      "127.0.0.1 - - [23/May/2020 12:02:36] \"GET /static/js/jquery.min.js HTTP/1.1\" 200 -\n",
      "127.0.0.1 - - [23/May/2020 12:02:36] \"GET /static/js/jquery.easing.1.3.js HTTP/1.1\" 200 -\n",
      "127.0.0.1 - - [23/May/2020 12:02:36] \"GET /static/js/jquery.magnific-popup.min.js HTTP/1.1\" 200 -\n",
      "127.0.0.1 - - [23/May/2020 12:02:36] \"GET /static/js/aos.js HTTP/1.1\" 200 -\n",
      "127.0.0.1 - - [23/May/2020 12:02:36] \"GET /static/js/jquery.stellar.min.js HTTP/1.1\" 200 -\n",
      "127.0.0.1 - - [23/May/2020 12:02:36] \"GET /static/js/jquery.waypoints.min.js HTTP/1.1\" 200 -\n",
      "127.0.0.1 - - [23/May/2020 12:02:36] \"GET /static/js/owl.carousel.min.js HTTP/1.1\" 200 -\n",
      "127.0.0.1 - - [23/May/2020 12:02:36] \"GET /static/js/main.js HTTP/1.1\" 200 -\n",
      "127.0.0.1 - - [23/May/2020 12:02:37] \"GET /static/js/scrollax.min.js HTTP/1.1\" 200 -\n",
      "127.0.0.1 - - [23/May/2020 12:02:37] \"GET /static/js/jquery.animateNumber.min.js HTTP/1.1\" 200 -\n",
      "127.0.0.1 - - [23/May/2020 12:02:37] \"GET /static/images/doc-1.jpg HTTP/1.1\" 200 -\n",
      "127.0.0.1 - - [23/May/2020 12:02:37] \"GET /static/images/about.jpg HTTP/1.1\" 200 -\n",
      "127.0.0.1 - - [23/May/2020 12:02:37] \"GET /static/images/bg_2.jpg HTTP/1.1\" 200 -\n",
      "127.0.0.1 - - [23/May/2020 12:02:37] \"GET /static/bg_3.jpg HTTP/1.1\" 404 -\n",
      "127.0.0.1 - - [23/May/2020 12:02:37] \"GET /static/images/doc-4.jpg HTTP/1.1\" 200 -\n",
      "127.0.0.1 - - [23/May/2020 12:02:37] \"GET /static/images/dept-1.jpg HTTP/1.1\" 200 -\n",
      "127.0.0.1 - - [23/May/2020 12:02:37] \"GET /static/images/doc-2.jpg HTTP/1.1\" 200 -\n",
      "127.0.0.1 - - [23/May/2020 12:02:37] \"GET /static/images/doc-3.jpg HTTP/1.1\" 200 -\n",
      "127.0.0.1 - - [23/May/2020 12:02:37] \"GET /static/images/bg_3.jpg HTTP/1.1\" 200 -\n",
      "127.0.0.1 - - [23/May/2020 12:02:37] \"GET /static/images/footer-bg.jpg HTTP/1.1\" 200 -\n",
      "127.0.0.1 - - [23/May/2020 12:02:37] \"GET /static/fonts/icomoon/icomoon.ttf?6tt51o HTTP/1.1\" 200 -\n",
      "127.0.0.1 - - [23/May/2020 12:02:37] \"GET /static/fonts/ionicons/fonts/ionicons.woff2?v=4.0.0-19 HTTP/1.1\" 200 -\n",
      "127.0.0.1 - - [23/May/2020 12:02:37] \"GET /static/fonts/flaticon/font/Flaticon.woff HTTP/1.1\" 200 -\n",
      "127.0.0.1 - - [23/May/2020 12:02:38] \"GET /static/images/person_1.jpg HTTP/1.1\" 200 -\n",
      "127.0.0.1 - - [23/May/2020 12:02:38] \"GET /static/images/person_2.jpg HTTP/1.1\" 200 -\n",
      "127.0.0.1 - - [23/May/2020 12:02:38] \"GET /static/images/person_3.jpg HTTP/1.1\" 200 -\n",
      "127.0.0.1 - - [23/May/2020 12:02:38] \"GET /favicon.ico HTTP/1.1\" 404 -\n",
      "127.0.0.1 - - [23/May/2020 12:03:56] \"GET /lala HTTP/1.1\" 308 -\n",
      "127.0.0.1 - - [23/May/2020 12:03:56] \"GET /lala/ HTTP/1.1\" 200 -\n",
      "127.0.0.1 - - [23/May/2020 12:03:56] \"GET /static/css2/style.css HTTP/1.1\" 200 -\n",
      "127.0.0.1 - - [23/May/2020 12:03:56] \"GET /static/fonts2/material-icon/css/material-design-iconic-font.min.css HTTP/1.1\" 200 -\n",
      "127.0.0.1 - - [23/May/2020 12:03:57] \"GET /static/js2/main.js HTTP/1.1\" 200 -\n",
      "127.0.0.1 - - [23/May/2020 12:03:57] \"GET /static/vendor2/jquery/jquery.min.js HTTP/1.1\" 200 -\n",
      "127.0.0.1 - - [23/May/2020 12:03:57] \"GET /static/images2/signup-image.jpg HTTP/1.1\" 200 -\n",
      "127.0.0.1 - - [23/May/2020 12:03:57] \"GET /static/fonts2/material-icon/fonts/Material-Design-Iconic-Font.woff2?v=2.2.0 HTTP/1.1\" 200 -\n",
      "127.0.0.1 - - [23/May/2020 12:03:57] \"GET /static/fonts2/poppins/poppins-v5-latin-regular.woff2 HTTP/1.1\" 200 -\n",
      "127.0.0.1 - - [23/May/2020 12:03:57] \"GET /static/fonts2/poppins/poppins-v5-latin-700.woff2 HTTP/1.1\" 200 -\n",
      "127.0.0.1 - - [23/May/2020 12:04:06] \"GET /poojdi HTTP/1.1\" 200 -\n",
      "127.0.0.1 - - [23/May/2020 12:04:06] \"GET /static/images2/signin-image.jpg HTTP/1.1\" 200 -\n",
      "127.0.0.1 - - [23/May/2020 12:04:20] \"POST /login_validation HTTP/1.1\" 200 -\n",
      "127.0.0.1 - - [23/May/2020 12:04:20] \"GET /static/bg_3.jpg HTTP/1.1\" 404 -\n",
      "127.0.0.1 - - [23/May/2020 12:08:13] \"GET /lala/ HTTP/1.1\" 200 -\n",
      "127.0.0.1 - - [23/May/2020 12:08:18] \"GET /poojdi HTTP/1.1\" 200 -\n",
      "127.0.0.1 - - [23/May/2020 12:08:28] \"POST /login_validation HTTP/1.1\" 200 -\n",
      "127.0.0.1 - - [23/May/2020 15:57:42] \"GET / HTTP/1.1\" 200 -\n",
      "127.0.0.1 - - [23/May/2020 15:57:43] \"GET /static/bg_3.jpg HTTP/1.1\" 404 -\n",
      "127.0.0.1 - - [23/May/2020 16:10:16] \"GET /lala/ HTTP/1.1\" 200 -\n",
      "127.0.0.1 - - [23/May/2020 16:10:23] \"GET /poojdi HTTP/1.1\" 200 -\n",
      "127.0.0.1 - - [23/May/2020 16:20:00] \"GET /appointment.html HTTP/1.1\" 404 -\n",
      "127.0.0.1 - - [23/May/2020 16:20:11] \"GET /poojdi HTTP/1.1\" 200 -\n",
      "127.0.0.1 - - [23/May/2020 16:20:36] \"GET /lala/ HTTP/1.1\" 200 -\n",
      "127.0.0.1 - - [23/May/2020 16:33:35] \"GET /lala/ HTTP/1.1\" 200 -\n",
      "127.0.0.1 - - [23/May/2020 16:33:53] \"GET /poojdi HTTP/1.1\" 200 -\n"
     ]
    }
   ],
   "source": [
    "app.run()\n"
   ]
  },
  {
   "cell_type": "code",
   "execution_count": null,
   "metadata": {},
   "outputs": [],
   "source": [
    "\n",
    "\n",
    "\n"
   ]
  },
  {
   "cell_type": "code",
   "execution_count": null,
   "metadata": {},
   "outputs": [],
   "source": []
  }
 ],
 "metadata": {
  "kernelspec": {
   "display_name": "Python 3",
   "language": "python",
   "name": "python3"
  },
  "language_info": {
   "codemirror_mode": {
    "name": "ipython",
    "version": 3
   },
   "file_extension": ".py",
   "mimetype": "text/x-python",
   "name": "python",
   "nbconvert_exporter": "python",
   "pygments_lexer": "ipython3",
   "version": "3.7.4"
  }
 },
 "nbformat": 4,
 "nbformat_minor": 2
}
