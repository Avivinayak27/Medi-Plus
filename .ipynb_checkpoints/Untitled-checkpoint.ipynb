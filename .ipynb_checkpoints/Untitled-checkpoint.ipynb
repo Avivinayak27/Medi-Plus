{
 "cells": [
  {
   "cell_type": "code",
   "execution_count": 1,
   "metadata": {},
   "outputs": [],
   "source": [
    "from flask import Flask, render_template\n",
    "import pymysql\n",
    "app= Flask(\"Hello\")\n",
    "@app.route(\"/\")\n",
    "def index():\n",
    "    return render_template(\"index.html\")\n",
    "@app.route(\"/lala/\")\n",
    "def register():\n",
    "    return render_template(\"signup.html\")\n"
   ]
  },
  {
   "cell_type": "code",
   "execution_count": null,
   "metadata": {},
   "outputs": [
    {
     "name": "stdout",
     "output_type": "stream",
     "text": [
      " * Serving Flask app \"Hello\" (lazy loading)\n",
      " * Environment: production\n",
      "   WARNING: This is a development server. Do not use it in a production deployment.\n",
      "   Use a production WSGI server instead.\n",
      " * Debug mode: off\n"
     ]
    },
    {
     "name": "stderr",
     "output_type": "stream",
     "text": [
      " * Running on http://127.0.0.1:5000/ (Press CTRL+C to quit)\n",
      "127.0.0.1 - - [22/Apr/2020 22:08:52] \"GET / HTTP/1.1\" 200 -\n",
      "127.0.0.1 - - [22/Apr/2020 22:08:52] \"GET /images/about.jpg HTTP/1.1\" 404 -\n",
      "127.0.0.1 - - [22/Apr/2020 22:08:52] \"GET /images/bg_2.jpg HTTP/1.1\" 404 -\n",
      "127.0.0.1 - - [22/Apr/2020 22:08:52] \"GET /images/dept-1.jpg HTTP/1.1\" 404 -\n",
      "127.0.0.1 - - [22/Apr/2020 22:08:52] \"GET /images/doc-1.jpg HTTP/1.1\" 404 -\n",
      "127.0.0.1 - - [22/Apr/2020 22:08:52] \"GET /images/doc-2.jpg HTTP/1.1\" 404 -\n",
      "127.0.0.1 - - [22/Apr/2020 22:08:52] \"GET /images/doc-3.jpg HTTP/1.1\" 404 -\n",
      "127.0.0.1 - - [22/Apr/2020 22:08:52] \"GET /images/bg_3.jpg HTTP/1.1\" 404 -\n",
      "127.0.0.1 - - [22/Apr/2020 22:08:52] \"GET /images/person_1.jpg HTTP/1.1\" 404 -\n",
      "127.0.0.1 - - [22/Apr/2020 22:08:52] \"GET /images/person_2.jpg HTTP/1.1\" 404 -\n",
      "127.0.0.1 - - [22/Apr/2020 22:08:52] \"GET /images/person_3.jpg HTTP/1.1\" 404 -\n",
      "127.0.0.1 - - [22/Apr/2020 22:08:54] \"GET /lala/ HTTP/1.1\" 200 -\n",
      "127.0.0.1 - - [22/Apr/2020 22:08:54] \"GET /static/fonts/fontawesome-webfont.woff2?v=4.7.0 HTTP/1.1\" 404 -\n",
      "127.0.0.1 - - [22/Apr/2020 22:08:54] \"GET /static/fonts/fontawesome-webfont.woff?v=4.7.0 HTTP/1.1\" 404 -\n",
      "127.0.0.1 - - [22/Apr/2020 22:08:54] \"GET /static/fonts/fontawesome-webfont.ttf?v=4.7.0 HTTP/1.1\" 404 -\n",
      "127.0.0.1 - - [22/Apr/2020 22:10:36] \"GET /lala/ HTTP/1.1\" 200 -\n",
      "127.0.0.1 - - [22/Apr/2020 22:10:36] \"GET /static/fonts/fontawesome-webfont.woff2?v=4.7.0 HTTP/1.1\" 404 -\n",
      "127.0.0.1 - - [22/Apr/2020 22:10:36] \"GET /static/fonts/fontawesome-webfont.woff?v=4.7.0 HTTP/1.1\" 404 -\n",
      "127.0.0.1 - - [22/Apr/2020 22:10:36] \"GET /static/fonts/fontawesome-webfont.ttf?v=4.7.0 HTTP/1.1\" 404 -\n"
     ]
    }
   ],
   "source": [
    "app.run()\n"
   ]
  },
  {
   "cell_type": "code",
   "execution_count": null,
   "metadata": {},
   "outputs": [],
   "source": [
    "@app.route('/signin')\n",
    "def signin():\n",
    "    pymysql.connect(host='localhost',user='root',password='' ,db='signin',)\n",
    "    with connection.cursor() as cursor:\n",
    "        cursor.excute(\"\")\n",
    "    return \"database test\""
   ]
  },
  {
   "cell_type": "code",
   "execution_count": null,
   "metadata": {},
   "outputs": [],
   "source": []
  }
 ],
 "metadata": {
  "kernelspec": {
   "display_name": "Python 3",
   "language": "python",
   "name": "python3"
  },
  "language_info": {
   "codemirror_mode": {
    "name": "ipython",
    "version": 3
   },
   "file_extension": ".py",
   "mimetype": "text/x-python",
   "name": "python",
   "nbconvert_exporter": "python",
   "pygments_lexer": "ipython3",
   "version": "3.7.4"
  }
 },
 "nbformat": 4,
 "nbformat_minor": 2
}
